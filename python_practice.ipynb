{
 "cells": [
  {
   "cell_type": "code",
   "execution_count": 47,
   "id": "3fddfec1",
   "metadata": {},
   "outputs": [],
   "source": [
    "# 2023 4월 17일 파이썬 기초 개념 리마인드"
   ]
  },
  {
   "cell_type": "code",
   "execution_count": 4,
   "id": "45f6524c",
   "metadata": {
    "scrolled": true
   },
   "outputs": [
    {
     "name": "stdout",
     "output_type": "stream",
     "text": [
      "3은 5보다 작다\n",
      "3은 1보다 작다\n"
     ]
    }
   ],
   "source": [
    "if 3<5:\n",
    "    print('3은 5보다 작다')\n",
    "    if 3>1:\n",
    "        print('3은 1보다 작다')\n",
    "    else:\n",
    "        print('3은 1보다 작다')"
   ]
  },
  {
   "cell_type": "code",
   "execution_count": null,
   "id": "3317afe9",
   "metadata": {},
   "outputs": [],
   "source": []
  },
  {
   "cell_type": "code",
   "execution_count": 5,
   "id": "c0bc9752",
   "metadata": {},
   "outputs": [],
   "source": [
    "products = ['Joa-2020','Joa-2021','Siro-2021','Siro-2022']"
   ]
  },
  {
   "cell_type": "code",
   "execution_count": 10,
   "id": "010c3599",
   "metadata": {},
   "outputs": [],
   "source": [
    "recall=[]"
   ]
  },
  {
   "cell_type": "code",
   "execution_count": 12,
   "id": "971ca091",
   "metadata": {},
   "outputs": [],
   "source": [
    "for p in products:\n",
    "    if p.startswith('Siro'):\n",
    "        recall.append(p)"
   ]
  },
  {
   "cell_type": "code",
   "execution_count": 13,
   "id": "d0fb5aad",
   "metadata": {},
   "outputs": [
    {
     "name": "stdout",
     "output_type": "stream",
     "text": [
      "['Siro-2021', 'Siro-2022']\n"
     ]
    }
   ],
   "source": [
    "print(recall)"
   ]
  },
  {
   "cell_type": "code",
   "execution_count": 25,
   "id": "fb9886c0",
   "metadata": {},
   "outputs": [],
   "source": [
    "# recall에서 length가 3보다 그대로 사용해서 새로운 리스트를 만든다.\n",
    "# List Comprehension\n",
    "new_list = [x for x in recall if len(x) > 3]"
   ]
  },
  {
   "cell_type": "code",
   "execution_count": 26,
   "id": "895347b8",
   "metadata": {},
   "outputs": [
    {
     "data": {
      "text/plain": [
       "['Siro-2021', 'Siro-2022']"
      ]
     },
     "execution_count": 26,
     "metadata": {},
     "output_type": "execute_result"
    }
   ],
   "source": [
    "new_list"
   ]
  },
  {
   "cell_type": "code",
   "execution_count": 18,
   "id": "9766425d",
   "metadata": {},
   "outputs": [],
   "source": [
    "x = recall[0]"
   ]
  },
  {
   "cell_type": "code",
   "execution_count": 19,
   "id": "c23ba31b",
   "metadata": {},
   "outputs": [
    {
     "data": {
      "text/plain": [
       "'Siro-2021'"
      ]
     },
     "execution_count": 19,
     "metadata": {},
     "output_type": "execute_result"
    }
   ],
   "source": [
    "x"
   ]
  },
  {
   "cell_type": "code",
   "execution_count": 20,
   "id": "9bc869cb",
   "metadata": {},
   "outputs": [
    {
     "data": {
      "text/plain": [
       "9"
      ]
     },
     "execution_count": 20,
     "metadata": {},
     "output_type": "execute_result"
    }
   ],
   "source": [
    "len(x)"
   ]
  },
  {
   "cell_type": "code",
   "execution_count": 23,
   "id": "81848e0f",
   "metadata": {},
   "outputs": [
    {
     "data": {
      "text/plain": [
       "2"
      ]
     },
     "execution_count": 23,
     "metadata": {},
     "output_type": "execute_result"
    }
   ],
   "source": [
    "len(recall)"
   ]
  },
  {
   "cell_type": "code",
   "execution_count": null,
   "id": "77eda0fe",
   "metadata": {},
   "outputs": [],
   "source": []
  },
  {
   "cell_type": "code",
   "execution_count": 29,
   "id": "71c997fb",
   "metadata": {},
   "outputs": [],
   "source": [
    "def show_price(user):\n",
    "    print('{}님의 커트 가격은 10000원 입니다.'.format(user))"
   ]
  },
  {
   "cell_type": "code",
   "execution_count": 30,
   "id": "fd702d71",
   "metadata": {},
   "outputs": [
    {
     "name": "stdout",
     "output_type": "stream",
     "text": [
      "왕현성님의 커트 가격은 10000원 입니다.\n"
     ]
    }
   ],
   "source": [
    "show_price('왕현성')"
   ]
  },
  {
   "cell_type": "code",
   "execution_count": null,
   "id": "a25f743d",
   "metadata": {},
   "outputs": [],
   "source": []
  },
  {
   "cell_type": "code",
   "execution_count": 35,
   "id": "8b39a111",
   "metadata": {},
   "outputs": [],
   "source": [
    "# global 선언 없이 값을 설정하면 전역변수인 x는 변함없이 3이다."
   ]
  },
  {
   "cell_type": "code",
   "execution_count": 31,
   "id": "bf1a196c",
   "metadata": {},
   "outputs": [],
   "source": [
    "x = 3"
   ]
  },
  {
   "cell_type": "code",
   "execution_count": 36,
   "id": "805fa76f",
   "metadata": {},
   "outputs": [],
   "source": [
    "# 지역변수 x에 3을 더하는 함수\n",
    "def add():\n",
    "    x=6\n",
    "    x=x+3"
   ]
  },
  {
   "cell_type": "code",
   "execution_count": 37,
   "id": "b8730c7d",
   "metadata": {},
   "outputs": [],
   "source": [
    "add()"
   ]
  },
  {
   "cell_type": "code",
   "execution_count": 38,
   "id": "232bc163",
   "metadata": {},
   "outputs": [
    {
     "name": "stdout",
     "output_type": "stream",
     "text": [
      "3\n"
     ]
    }
   ],
   "source": [
    "print(x)"
   ]
  },
  {
   "cell_type": "code",
   "execution_count": null,
   "id": "e4b1a45d",
   "metadata": {},
   "outputs": [],
   "source": []
  },
  {
   "cell_type": "code",
   "execution_count": 10,
   "id": "9d376815",
   "metadata": {},
   "outputs": [],
   "source": [
    "class BlackBox:\n",
    "    def __init__(self,name,price): # __init__ 객체가 생성될 때 자동으로 실행, 초기화하는 역할\n",
    "        self.name = name\n",
    "        self.price = price\n"
   ]
  },
  {
   "cell_type": "code",
   "execution_count": 12,
   "id": "d648b4b9",
   "metadata": {},
   "outputs": [],
   "source": [
    "b1 = BlackBox('Black',20000)"
   ]
  },
  {
   "cell_type": "code",
   "execution_count": 13,
   "id": "a1c8bf08",
   "metadata": {},
   "outputs": [
    {
     "name": "stdout",
     "output_type": "stream",
     "text": [
      "Black 20000\n"
     ]
    }
   ],
   "source": [
    "print(b1.name,b1.price)"
   ]
  },
  {
   "cell_type": "code",
   "execution_count": 40,
   "id": "b4185651",
   "metadata": {},
   "outputs": [],
   "source": [
    "# 2023 4월 18일 파이썬 기초 개념 리마인드 ( 클래스 )"
   ]
  },
  {
   "cell_type": "code",
   "execution_count": 16,
   "id": "40b26e9f",
   "metadata": {},
   "outputs": [],
   "source": [
    "class TravelBlackBox(BlackBox):\n",
    "    def __init__(self,name,price,sd):\n",
    "        super().__init__(self,name,price)\n",
    "        self.sd=sd\n",
    "    def set_travel_mode(self,min):\n",
    "        print(str(min)) + '분 동안 여행 모드 On'"
   ]
  },
  {
   "cell_type": "code",
   "execution_count": 17,
   "id": "931cbe99",
   "metadata": {},
   "outputs": [],
   "source": [
    "class VideoMaker:\n",
    "    def make(self):\n",
    "        print('추억용 여행 영상 제작')"
   ]
  },
  {
   "cell_type": "code",
   "execution_count": 34,
   "id": "eabb2c6b",
   "metadata": {},
   "outputs": [],
   "source": [
    "class TravelBlackBox(BlackBox,VideoMaker,MailSender):\n",
    "    def __init__(self,name,price,sd):\n",
    "        super().__init__(name,price)\n",
    "        self.sd=sd\n",
    "    def set_travel_mode(self,min):\n",
    "        print(str(min)) + '분 동안 여행 모드 On'"
   ]
  },
  {
   "cell_type": "code",
   "execution_count": 22,
   "id": "230e4fb0",
   "metadata": {},
   "outputs": [],
   "source": [
    "class MailSender:\n",
    "    def send(self):\n",
    "        print('메일 발송')"
   ]
  },
  {
   "cell_type": "code",
   "execution_count": 36,
   "id": "8d6daece",
   "metadata": {},
   "outputs": [],
   "source": [
    "b1 = TravelBlackBox('Black',1000000,64)"
   ]
  },
  {
   "cell_type": "code",
   "execution_count": 37,
   "id": "c46d7104",
   "metadata": {},
   "outputs": [
    {
     "name": "stdout",
     "output_type": "stream",
     "text": [
      "Black\n"
     ]
    }
   ],
   "source": [
    "print(b1.name)"
   ]
  },
  {
   "cell_type": "code",
   "execution_count": 38,
   "id": "6310f811",
   "metadata": {},
   "outputs": [
    {
     "name": "stdout",
     "output_type": "stream",
     "text": [
      "메일 발송\n"
     ]
    }
   ],
   "source": [
    "b1.send()"
   ]
  },
  {
   "cell_type": "code",
   "execution_count": 39,
   "id": "74150055",
   "metadata": {},
   "outputs": [
    {
     "name": "stdout",
     "output_type": "stream",
     "text": [
      "추억용 여행 영상 제작\n"
     ]
    }
   ],
   "source": [
    "b1.make()"
   ]
  },
  {
   "cell_type": "code",
   "execution_count": 45,
   "id": "d59634a4",
   "metadata": {},
   "outputs": [],
   "source": [
    "class AdvancedTravelBlackBox(TravelBlackBox) :\n",
    "    def set_travel_mode(self,min):\n",
    "        print(str(min) + '분 동안 여행 모드 ON')\n",
    "        self.make()\n",
    "        self.send()"
   ]
  },
  {
   "cell_type": "code",
   "execution_count": 46,
   "id": "8f472c6b",
   "metadata": {},
   "outputs": [],
   "source": [
    "b2 = AdvancedTravelBlackBox('Green',120000,64)"
   ]
  },
  {
   "cell_type": "code",
   "execution_count": 47,
   "id": "8c1724f7",
   "metadata": {},
   "outputs": [
    {
     "name": "stdout",
     "output_type": "stream",
     "text": [
      "15분 동안 여행 모드 ON\n",
      "추억용 여행 영상 제작\n",
      "메일 발송\n"
     ]
    }
   ],
   "source": [
    "b2.set_travel_mode(15)"
   ]
  },
  {
   "cell_type": "code",
   "execution_count": 54,
   "id": "3eb46425",
   "metadata": {},
   "outputs": [
    {
     "name": "stdout",
     "output_type": "stream",
     "text": [
      "에러가 발생했습니다 \n",
      "division by zero\n"
     ]
    }
   ],
   "source": [
    "# 예외처리\n",
    "num1 = 3\n",
    "num2 = 0\n",
    "try:\n",
    "    result = num1 / num2\n",
    "    print(\"연산 결과는{}입니다\".format(result))\n",
    "except Exception as e:\n",
    "    print('에러가 발생했습니다' + \" \\n\"+str(e))"
   ]
  },
  {
   "cell_type": "code",
   "execution_count": 55,
   "id": "1263d20b",
   "metadata": {},
   "outputs": [],
   "source": [
    "status = \"상품 준비\""
   ]
  },
  {
   "cell_type": "code",
   "execution_count": 56,
   "id": "358c985c",
   "metadata": {},
   "outputs": [
    {
     "name": "stdout",
     "output_type": "stream",
     "text": [
      "주문 상태 :상품 준비\n"
     ]
    }
   ],
   "source": [
    "print(\"주문 상태 :\" +  status)"
   ]
  },
  {
   "cell_type": "code",
   "execution_count": null,
   "id": "20809a43",
   "metadata": {},
   "outputs": [],
   "source": []
  }
 ],
 "metadata": {
  "kernelspec": {
   "display_name": "Python 3 (ipykernel)",
   "language": "python",
   "name": "python3"
  },
  "language_info": {
   "codemirror_mode": {
    "name": "ipython",
    "version": 3
   },
   "file_extension": ".py",
   "mimetype": "text/x-python",
   "name": "python",
   "nbconvert_exporter": "python",
   "pygments_lexer": "ipython3",
   "version": "3.9.16"
  }
 },
 "nbformat": 4,
 "nbformat_minor": 5
}
