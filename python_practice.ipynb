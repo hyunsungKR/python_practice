{
 "cells": [
  {
   "cell_type": "code",
   "execution_count": 47,
   "id": "3fddfec1",
   "metadata": {},
   "outputs": [],
   "source": [
    "# 2023 4월 17일 파이썬 기초 개념 리마인드"
   ]
  },
  {
   "cell_type": "code",
   "execution_count": 4,
   "id": "45f6524c",
   "metadata": {
    "scrolled": true
   },
   "outputs": [
    {
     "name": "stdout",
     "output_type": "stream",
     "text": [
      "3은 5보다 작다\n",
      "3은 1보다 작다\n"
     ]
    }
   ],
   "source": [
    "if 3<5:\n",
    "    print('3은 5보다 작다')\n",
    "    if 3>1:\n",
    "        print('3은 1보다 작다')\n",
    "    else:\n",
    "        print('3은 1보다 작다')"
   ]
  },
  {
   "cell_type": "code",
   "execution_count": null,
   "id": "3317afe9",
   "metadata": {},
   "outputs": [],
   "source": []
  },
  {
   "cell_type": "code",
   "execution_count": 5,
   "id": "c0bc9752",
   "metadata": {},
   "outputs": [],
   "source": [
    "products = ['Joa-2020','Joa-2021','Siro-2021','Siro-2022']"
   ]
  },
  {
   "cell_type": "code",
   "execution_count": 10,
   "id": "010c3599",
   "metadata": {},
   "outputs": [],
   "source": [
    "recall=[]"
   ]
  },
  {
   "cell_type": "code",
   "execution_count": 12,
   "id": "971ca091",
   "metadata": {},
   "outputs": [],
   "source": [
    "for p in products:\n",
    "    if p.startswith('Siro'):\n",
    "        recall.append(p)"
   ]
  },
  {
   "cell_type": "code",
   "execution_count": 13,
   "id": "d0fb5aad",
   "metadata": {},
   "outputs": [
    {
     "name": "stdout",
     "output_type": "stream",
     "text": [
      "['Siro-2021', 'Siro-2022']\n"
     ]
    }
   ],
   "source": [
    "print(recall)"
   ]
  },
  {
   "cell_type": "code",
   "execution_count": 25,
   "id": "fb9886c0",
   "metadata": {},
   "outputs": [],
   "source": [
    "# recall에서 length가 3보다 그대로 사용해서 새로운 리스트를 만든다.\n",
    "# List Comprehension\n",
    "new_list = [x for x in recall if len(x) > 3]"
   ]
  },
  {
   "cell_type": "code",
   "execution_count": 26,
   "id": "895347b8",
   "metadata": {},
   "outputs": [
    {
     "data": {
      "text/plain": [
       "['Siro-2021', 'Siro-2022']"
      ]
     },
     "execution_count": 26,
     "metadata": {},
     "output_type": "execute_result"
    }
   ],
   "source": [
    "new_list"
   ]
  },
  {
   "cell_type": "code",
   "execution_count": 18,
   "id": "9766425d",
   "metadata": {},
   "outputs": [],
   "source": [
    "x = recall[0]"
   ]
  },
  {
   "cell_type": "code",
   "execution_count": 19,
   "id": "c23ba31b",
   "metadata": {},
   "outputs": [
    {
     "data": {
      "text/plain": [
       "'Siro-2021'"
      ]
     },
     "execution_count": 19,
     "metadata": {},
     "output_type": "execute_result"
    }
   ],
   "source": [
    "x"
   ]
  },
  {
   "cell_type": "code",
   "execution_count": 20,
   "id": "9bc869cb",
   "metadata": {},
   "outputs": [
    {
     "data": {
      "text/plain": [
       "9"
      ]
     },
     "execution_count": 20,
     "metadata": {},
     "output_type": "execute_result"
    }
   ],
   "source": [
    "len(x)"
   ]
  },
  {
   "cell_type": "code",
   "execution_count": 23,
   "id": "81848e0f",
   "metadata": {},
   "outputs": [
    {
     "data": {
      "text/plain": [
       "2"
      ]
     },
     "execution_count": 23,
     "metadata": {},
     "output_type": "execute_result"
    }
   ],
   "source": [
    "len(recall)"
   ]
  },
  {
   "cell_type": "code",
   "execution_count": null,
   "id": "77eda0fe",
   "metadata": {},
   "outputs": [],
   "source": []
  },
  {
   "cell_type": "code",
   "execution_count": 29,
   "id": "71c997fb",
   "metadata": {},
   "outputs": [],
   "source": [
    "def show_price(user):\n",
    "    print('{}님의 커트 가격은 10000원 입니다.'.format(user))"
   ]
  },
  {
   "cell_type": "code",
   "execution_count": 30,
   "id": "fd702d71",
   "metadata": {},
   "outputs": [
    {
     "name": "stdout",
     "output_type": "stream",
     "text": [
      "왕현성님의 커트 가격은 10000원 입니다.\n"
     ]
    }
   ],
   "source": [
    "show_price('왕현성')"
   ]
  },
  {
   "cell_type": "code",
   "execution_count": null,
   "id": "a25f743d",
   "metadata": {},
   "outputs": [],
   "source": []
  },
  {
   "cell_type": "code",
   "execution_count": 35,
   "id": "8b39a111",
   "metadata": {},
   "outputs": [],
   "source": [
    "# global 선언 없이 값을 설정하면 전역변수인 x는 변함없이 3이다."
   ]
  },
  {
   "cell_type": "code",
   "execution_count": 31,
   "id": "bf1a196c",
   "metadata": {},
   "outputs": [],
   "source": [
    "x = 3"
   ]
  },
  {
   "cell_type": "code",
   "execution_count": 36,
   "id": "805fa76f",
   "metadata": {},
   "outputs": [],
   "source": [
    "# 지역변수 x에 3을 더하는 함수\n",
    "def add():\n",
    "    x=6\n",
    "    x=x+3"
   ]
  },
  {
   "cell_type": "code",
   "execution_count": 37,
   "id": "b8730c7d",
   "metadata": {},
   "outputs": [],
   "source": [
    "add()"
   ]
  },
  {
   "cell_type": "code",
   "execution_count": 38,
   "id": "232bc163",
   "metadata": {},
   "outputs": [
    {
     "name": "stdout",
     "output_type": "stream",
     "text": [
      "3\n"
     ]
    }
   ],
   "source": [
    "print(x)"
   ]
  },
  {
   "cell_type": "code",
   "execution_count": null,
   "id": "e4b1a45d",
   "metadata": {},
   "outputs": [],
   "source": []
  },
  {
   "cell_type": "code",
   "execution_count": 48,
   "id": "9d376815",
   "metadata": {},
   "outputs": [],
   "source": [
    "class BlackBox:\n",
    "    def __init__(self,name,price): # __init__ 객체가 생성될 때 자동으로 실행, 초기화하는 역할\n",
    "        self.name = name\n",
    "        self.price = price\n",
    "    \n",
    "    def set_travel_mode(self):\n",
    "        print('travel mode on')"
   ]
  },
  {
   "cell_type": "code",
   "execution_count": 49,
   "id": "d648b4b9",
   "metadata": {},
   "outputs": [],
   "source": [
    "b1 = BlackBox('Black',20000)"
   ]
  },
  {
   "cell_type": "code",
   "execution_count": 46,
   "id": "a1c8bf08",
   "metadata": {},
   "outputs": [
    {
     "name": "stdout",
     "output_type": "stream",
     "text": [
      "Black 20000\n"
     ]
    }
   ],
   "source": [
    "print(b1.name,b1.price)"
   ]
  },
  {
   "cell_type": "code",
   "execution_count": 51,
   "id": "b523651a",
   "metadata": {},
   "outputs": [
    {
     "name": "stdout",
     "output_type": "stream",
     "text": [
      "travel mode on\n"
     ]
    }
   ],
   "source": [
    "b1.set_travel_mode()"
   ]
  },
  {
   "cell_type": "code",
   "execution_count": null,
   "id": "b4185651",
   "metadata": {},
   "outputs": [],
   "source": []
  }
 ],
 "metadata": {
  "kernelspec": {
   "display_name": "Python 3 (ipykernel)",
   "language": "python",
   "name": "python3"
  },
  "language_info": {
   "codemirror_mode": {
    "name": "ipython",
    "version": 3
   },
   "file_extension": ".py",
   "mimetype": "text/x-python",
   "name": "python",
   "nbconvert_exporter": "python",
   "pygments_lexer": "ipython3",
   "version": "3.9.16"
  }
 },
 "nbformat": 4,
 "nbformat_minor": 5
}
